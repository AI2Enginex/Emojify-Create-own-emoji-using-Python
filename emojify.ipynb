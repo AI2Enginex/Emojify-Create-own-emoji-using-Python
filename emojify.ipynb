{
 "cells": [
  {
   "attachments": {},
   "cell_type": "markdown",
   "metadata": {},
   "source": [
    "# Importing required libraries"
   ]
  },
  {
   "cell_type": "code",
   "execution_count": 13,
   "metadata": {},
   "outputs": [],
   "source": [
    "import keras\n",
    "import numpy as np\n",
    "import tensorflow as tf\n",
    "from collections import Counter\n",
    "from keras.preprocessing.image import ImageDataGenerator "
   ]
  },
  {
   "attachments": {},
   "cell_type": "markdown",
   "metadata": {},
   "source": [
    "# Loading the dataset\n",
    "\n",
    "1] Download the train dataset and test dataset, extract them into 2 different folders named as “train” and “test”. \n",
    "   Dataset Link -- https://www.kaggle.com/datasets/msambare/fer2013\n",
    "   \n",
    "2] The train folder should contain ‘n’ folders each containing images of respective classes. \n",
    "   For example, In this Project we have 7 set of emotions , the train folder should have 7 folders, namely \"Angry\",\"Disgusted\",\"Fearful\", \"Happy\", \"Neutral\", \"Sad\", \"Surprised\" containing respective images inside them.\n",
    "\n",
    "3] The test folder is used to create the validation set, same as train folder the test folder contains 7 folders, namely \"Angry\",\"Disgusted\", \"Fearful\", \"Happy\", \"Neutral\", \"Sad\", \"Surprised\" containing respective images inside them.\n",
    "\n",
    "4] Load the dataset using flow_from_directory() method."
   ]
  },
  {
   "cell_type": "code",
   "execution_count": 2,
   "metadata": {},
   "outputs": [
    {
     "name": "stdout",
     "output_type": "stream",
     "text": [
      "Found 19248 images belonging to 7 classes.\n",
      "Found 6388 images belonging to 7 classes.\n"
     ]
    }
   ],
   "source": [
    "datagen = ImageDataGenerator(1/255.0)         # scale the images between 0 to 1\n",
    "\n",
    "\n",
    "# creating training set\n",
    "training = datagen.flow_from_directory(\n",
    "            directory='D:/CNN_Projects/Emojify/train',         # directory: path for the training folder\n",
    "            target_size=(48, 48),                              # target_size: size for the training image\n",
    "            color_mode='rgb',                                  # color_mode: use 'rgb' if you want to train images using 3 channel else use 'grayscale'\n",
    "            class_mode='categorical',                          # class_mode: 'categorical' for multiclass classification and 'binary' for binary classification\n",
    "            batch_size=64,                                     # batch_size: loading images as batch of arrays\n",
    "            seed=42)\n",
    "\n",
    "# creating testing set\n",
    "testing = datagen.flow_from_directory(\n",
    "            directory='D:/CNN_Projects/Emojify/test',\n",
    "            target_size=(48, 48),\n",
    "            color_mode='rgb',\n",
    "            class_mode='categorical',\n",
    "            batch_size=64,\n",
    "            seed=42)"
   ]
  },
  {
   "attachments": {},
   "cell_type": "markdown",
   "metadata": {},
   "source": [
    "# Create Model using Keras\n",
    "\n",
    "Keras is an open-source software library that provides a Python interface for artificial neural networks. \n",
    "Keras acts as an interface for the TensorFlow library. For this project we will create a sequential model \n",
    "with 3 channel images as input.\n",
    "\n",
    "parameters for Keras model are:\n",
    "\n",
    "Conv2D: This layer creates a convolution kernel that is convolved with the layer input to produce a tensor of outputs.\n",
    "\n",
    "filters: Integer, the dimensionality of the output space (i.e. the number of output filters in the convolution)\n",
    "\n",
    "kernel_size: An integer or tuple/list of 2 integers, specifying the height and width of the 2D convolution window. Can be a single integer to specify the same value for all spatial dimensions.\n",
    "\n",
    "strides: An integer or tuple/list of 2 integers, specifying the strides of the convolution along the height and width\n",
    "\n",
    "padding: one of \"valid\" or \"same\" (case-insensitive). \"valid\" means no padding. \"same\" results in padding with zeros evenly to the left/right or up/down of the input. When padding=\"same\" and strides=1, the output has the same size as the input\n",
    "\n",
    "Activation function to use. If you don't specify anything, no activation is applied\n",
    "\n",
    "Input shape: 4D tensor with shape: batch_shape + (channels, rows, cols) if data_format='channels_first' or 4+D tensor with shape: batch_shape + (rows, cols, channels) if data_format='channels_last'\n",
    "\n",
    "MaxPoll2D: Pooling is used to summerize the image.Downsamples the input along its spatial dimensions (height and width) by taking the maximum value over an input window (of size defined by pool_size) for each channel of the input. The window is shifted by strides along each dimension\n",
    "\n",
    "Dropout: to avoid overfitting model drops some hidden layers, the function Dropout has a parameter (dropout_rate) which specifies how much layers to drop.\n",
    "\n",
    "Flattern: Flatten is used to flatten the input. For example, if flatten is applied to layer having input shape as (batch_size, 2,2), then the output shape of the layer will be (batch_size, 4)\n",
    "\n",
    "Activation functions: 'Relu' for the hidden layers and 'softmax' at the output layer as it is a multiclass classification\n",
    "\n",
    "\n",
    "\n"
   ]
  },
  {
   "cell_type": "code",
   "execution_count": 3,
   "metadata": {},
   "outputs": [],
   "source": [
    "datagen_model = keras.models.Sequential([\n",
    "\n",
    "        keras.layers.Conv2D(filters=32, activation=\"relu\", kernel_size=(\n",
    "            3, 3), padding=\"same\", input_shape=(48,48,3)),\n",
    "        keras.layers.BatchNormalization(),\n",
    "        keras.layers.MaxPool2D((2, 2)),\n",
    "        keras.layers.Dropout(0.2),\n",
    "        keras.layers.Conv2D(filters=32, activation=\"relu\",\n",
    "                            padding=\"same\", kernel_size=(3, 3)),\n",
    "        keras.layers.BatchNormalization(),\n",
    "        keras.layers.MaxPool2D((2, 2)),\n",
    "        keras.layers.Dropout(0.2),\n",
    "        keras.layers.Conv2D(filters=32, activation=\"relu\",\n",
    "                            padding=\"same\", kernel_size=(3, 3)),\n",
    "        keras.layers.BatchNormalization(),\n",
    "        keras.layers.MaxPool2D((2, 2)),\n",
    "        keras.layers.Dropout(0.2),\n",
    "\n",
    "        keras.layers.Conv2D(filters=32, activation=\"relu\",\n",
    "                            padding=\"same\", kernel_size=(3, 3)),\n",
    "        keras.layers.BatchNormalization(),\n",
    "        keras.layers.MaxPool2D((2, 2)),\n",
    "        keras.layers.Dropout(0.2),\n",
    "        keras.layers.Conv2D(filters=32, activation=\"relu\",\n",
    "                            padding=\"same\", kernel_size=(3, 3)),\n",
    "        keras.layers.BatchNormalization(),\n",
    "        keras.layers.MaxPool2D((2, 2)),\n",
    "        keras.layers.Dropout(0.2),\n",
    "        keras.layers.Flatten(input_shape=(48,48,3)),\n",
    "        keras.layers.Dense(800, activation=\"relu\"),\n",
    "        keras.layers.Dense(700, activation=\"relu\"),\n",
    "        keras.layers.Dense(600, activation=\"relu\"),\n",
    "        keras.layers.Dense(7, activation='softmax')\n",
    "        ])"
   ]
  },
  {
   "attachments": {},
   "cell_type": "markdown",
   "metadata": {},
   "source": [
    "# Traning the model\n",
    "\n",
    "Adam optimizer:  Adam optimization is a stochastic gradient descent method that is based on adaptive estimation of first-order and second-order moments.method is computationally efficient, has little memory requirement, invariant to diagonal rescaling of gradients, and is well suited for problems that are large in terms of data/parameters.\n",
    "\n",
    "categorical_crossentropy: Categorical Cross Entropy is also known as Softmax Loss. It’s a softmax activation plus a Cross-Entropy loss used for multiclass classification. Using this loss, we can train a Convolutional Neural Network to output a probability over the N classes for each image. This loss function is mainly used when out input is one-hot encoded vectors"
   ]
  },
  {
   "cell_type": "code",
   "execution_count": 9,
   "metadata": {},
   "outputs": [
    {
     "name": "stdout",
     "output_type": "stream",
     "text": [
      "Epoch 1/20\n"
     ]
    },
    {
     "name": "stderr",
     "output_type": "stream",
     "text": [
      "C:\\Users\\pslvm\\AppData\\Local\\Temp\\ipykernel_23012\\2612771471.py:2: UserWarning: `Model.fit_generator` is deprecated and will be removed in a future version. Please use `Model.fit`, which supports generators.\n",
      "  model_history = datagen_model.fit_generator(training, epochs=20,validation_data=(testing),steps_per_epoch=120)\n"
     ]
    },
    {
     "name": "stdout",
     "output_type": "stream",
     "text": [
      "120/120 [==============================] - 27s 204ms/step - loss: 1.3610 - accuracy: 0.4773 - val_loss: 1.3142 - val_accuracy: 0.4987\n",
      "Epoch 2/20\n",
      "120/120 [==============================] - 27s 228ms/step - loss: 1.3377 - accuracy: 0.4919 - val_loss: 1.2655 - val_accuracy: 0.5155\n",
      "Epoch 3/20\n",
      "120/120 [==============================] - 28s 231ms/step - loss: 1.3306 - accuracy: 0.4838 - val_loss: 1.2748 - val_accuracy: 0.5211\n",
      "Epoch 4/20\n",
      "120/120 [==============================] - 27s 229ms/step - loss: 1.3113 - accuracy: 0.5000 - val_loss: 1.2608 - val_accuracy: 0.5180\n",
      "Epoch 5/20\n",
      "120/120 [==============================] - 29s 239ms/step - loss: 1.3136 - accuracy: 0.4974 - val_loss: 1.4651 - val_accuracy: 0.4249\n",
      "Epoch 6/20\n",
      "120/120 [==============================] - 30s 251ms/step - loss: 1.3059 - accuracy: 0.4948 - val_loss: 1.2323 - val_accuracy: 0.5394\n",
      "Epoch 7/20\n",
      "120/120 [==============================] - 28s 235ms/step - loss: 1.3009 - accuracy: 0.4941 - val_loss: 1.2390 - val_accuracy: 0.5288\n",
      "Epoch 8/20\n",
      "120/120 [==============================] - 28s 233ms/step - loss: 1.3014 - accuracy: 0.4992 - val_loss: 1.2220 - val_accuracy: 0.5482\n",
      "Epoch 9/20\n",
      "120/120 [==============================] - 29s 238ms/step - loss: 1.2952 - accuracy: 0.5074 - val_loss: 1.2207 - val_accuracy: 0.5441\n",
      "Epoch 10/20\n",
      "120/120 [==============================] - 29s 246ms/step - loss: 1.2939 - accuracy: 0.5044 - val_loss: 1.2546 - val_accuracy: 0.5288\n",
      "Epoch 11/20\n",
      "120/120 [==============================] - 30s 247ms/step - loss: 1.2791 - accuracy: 0.5014 - val_loss: 1.1976 - val_accuracy: 0.5501\n",
      "Epoch 12/20\n",
      "120/120 [==============================] - 29s 241ms/step - loss: 1.2707 - accuracy: 0.5116 - val_loss: 1.2981 - val_accuracy: 0.5058\n",
      "Epoch 13/20\n",
      "120/120 [==============================] - 29s 242ms/step - loss: 1.2613 - accuracy: 0.5154 - val_loss: 1.5301 - val_accuracy: 0.4133\n",
      "Epoch 14/20\n",
      "120/120 [==============================] - 31s 257ms/step - loss: 1.2734 - accuracy: 0.5134 - val_loss: 1.2501 - val_accuracy: 0.5290\n",
      "Epoch 15/20\n",
      "120/120 [==============================] - 31s 255ms/step - loss: 1.2411 - accuracy: 0.5159 - val_loss: 1.2466 - val_accuracy: 0.5366\n",
      "Epoch 16/20\n",
      "120/120 [==============================] - 31s 256ms/step - loss: 1.2547 - accuracy: 0.5214 - val_loss: 1.2098 - val_accuracy: 0.5434\n",
      "Epoch 17/20\n",
      "120/120 [==============================] - 31s 258ms/step - loss: 1.2541 - accuracy: 0.5194 - val_loss: 1.2326 - val_accuracy: 0.5404\n",
      "Epoch 18/20\n",
      "120/120 [==============================] - 33s 275ms/step - loss: 1.2357 - accuracy: 0.5268 - val_loss: 1.2471 - val_accuracy: 0.5236\n",
      "Epoch 19/20\n",
      "120/120 [==============================] - 33s 278ms/step - loss: 1.2371 - accuracy: 0.5302 - val_loss: 1.3406 - val_accuracy: 0.5028\n",
      "Epoch 20/20\n",
      "120/120 [==============================] - 33s 275ms/step - loss: 1.2390 - accuracy: 0.5262 - val_loss: 1.3130 - val_accuracy: 0.5049\n"
     ]
    }
   ],
   "source": [
    "datagen_model.compile(optimizer=tf.optimizers.Adam(learning_rate=0.001), loss='categorical_crossentropy', metrics=[\"accuracy\"])\n",
    "model_history = datagen_model.fit_generator(training, epochs=20,validation_data=(testing),steps_per_epoch=120)"
   ]
  },
  {
   "attachments": {},
   "cell_type": "markdown",
   "metadata": {},
   "source": [
    "# Evaluate the model on testing set"
   ]
  },
  {
   "cell_type": "code",
   "execution_count": 10,
   "metadata": {},
   "outputs": [
    {
     "name": "stdout",
     "output_type": "stream",
     "text": [
      "100/100 [==============================] - 6s 58ms/step - loss: 1.3130 - accuracy: 0.5049\n"
     ]
    },
    {
     "data": {
      "text/plain": [
       "[1.3129645586013794, 0.504852831363678]"
      ]
     },
     "execution_count": 10,
     "metadata": {},
     "output_type": "execute_result"
    }
   ],
   "source": [
    "datagen_model.evaluate(testing)"
   ]
  },
  {
   "attachments": {},
   "cell_type": "markdown",
   "metadata": {},
   "source": [
    "# Making prediction on the testing set\n",
    "\n",
    "before making prediction make sure you apply 'reset' function on testing set, for model to consider testing set as unseen data"
   ]
  },
  {
   "cell_type": "code",
   "execution_count": 11,
   "metadata": {},
   "outputs": [
    {
     "name": "stderr",
     "output_type": "stream",
     "text": [
      "C:\\Users\\pslvm\\AppData\\Local\\Temp\\ipykernel_23012\\979130062.py:7: UserWarning: `Model.predict_generator` is deprecated and will be removed in a future version. Please use `Model.predict`, which supports generators.\n",
      "  pred=[np.argmax(arr) for arr in datagen_model.predict_generator(testing)]\n"
     ]
    }
   ],
   "source": [
    "testing.reset()\n",
    "\n",
    "# the output of the softmax activation function are the arrays of predicted probabilities\n",
    "# to get the predicted class we uses argmax functions which returns the index value of\n",
    "# the maximum predicted probability\n",
    "\n",
    "pred=[np.argmax(arr) for arr in datagen_model.predict_generator(testing)]"
   ]
  },
  {
   "attachments": {},
   "cell_type": "markdown",
   "metadata": {},
   "source": [
    "# Evaluating the predicted class"
   ]
  },
  {
   "cell_type": "code",
   "execution_count": 22,
   "metadata": {},
   "outputs": [
    {
     "name": "stdout",
     "output_type": "stream",
     "text": [
      "Counter({'neutral': 2198, 'sad': 1200, 'happy': 1082, 'fear': 871, 'surprise': 620, 'angry': 362, 'disgust': 55})\n"
     ]
    }
   ],
   "source": [
    "labels = (testing.class_indices)\n",
    "labels = dict((v,k) for k,v in labels.items())\n",
    "predictions = [labels[k] for k in pred]\n",
    "\n",
    "print(Counter(predictions))"
   ]
  },
  {
   "attachments": {},
   "cell_type": "markdown",
   "metadata": {},
   "source": [
    "# Saving the model"
   ]
  },
  {
   "cell_type": "code",
   "execution_count": 24,
   "metadata": {},
   "outputs": [],
   "source": [
    "datagen_model.save('emoji_face.h5')"
   ]
  },
  {
   "cell_type": "code",
   "execution_count": null,
   "metadata": {},
   "outputs": [],
   "source": []
  }
 ],
 "metadata": {
  "kernelspec": {
   "display_name": "Python 3",
   "language": "python",
   "name": "python3"
  },
  "language_info": {
   "codemirror_mode": {
    "name": "ipython",
    "version": 3
   },
   "file_extension": ".py",
   "mimetype": "text/x-python",
   "name": "python",
   "nbconvert_exporter": "python",
   "pygments_lexer": "ipython3",
   "version": "3.11.0"
  },
  "orig_nbformat": 4
 },
 "nbformat": 4,
 "nbformat_minor": 2
}
